{
 "cells": [
  {
   "cell_type": "code",
   "execution_count": null,
   "id": "88637698-0e2e-4ecf-a1a9-ee602de93587",
   "metadata": {},
   "outputs": [],
   "source": [
    "%load_ext autoreload\n",
    "%autoreload 2\n",
    "import sys\n",
    "\n",
    "sys.path.insert(0, '../src')"
   ]
  },
  {
   "cell_type": "code",
   "execution_count": null,
   "id": "c4d91d5a-67ae-4ece-a039-ed72b648bf92",
   "metadata": {},
   "outputs": [],
   "source": [
    "from PIL import Image\n",
    "\n",
    "\n",
    "images = [\n",
    "    Image.new(size=(500, 600), mode='RGB', color=(255, 128, 128)),\n",
    "    Image.new(size=(500, 600), mode='RGB', color=(128, 255, 128))\n",
    "]"
   ]
  },
  {
   "cell_type": "code",
   "execution_count": null,
   "id": "28ee71f0-9a30-4551-baf3-85051f343add",
   "metadata": {},
   "outputs": [],
   "source": [
    "from vatman import draw_labeled_image_grid\n",
    "\n",
    "\n",
    "draw_labeled_image_grid(\n",
    "    images,\n",
    "    labels_x=['', ''],\n",
    "    labels_y=[''],\n",
    "    captions=['pink', 'green']\n",
    ")"
   ]
  },
  {
   "cell_type": "code",
   "execution_count": null,
   "id": "3ada5c73-9a8a-4f72-83fe-7ccf2695c804",
   "metadata": {},
   "outputs": [],
   "source": []
  }
 ],
 "metadata": {
  "kernelspec": {
   "display_name": "Python 3 (ipykernel)",
   "language": "python",
   "name": "python3"
  },
  "language_info": {
   "codemirror_mode": {
    "name": "ipython",
    "version": 3
   },
   "file_extension": ".py",
   "mimetype": "text/x-python",
   "name": "python",
   "nbconvert_exporter": "python",
   "pygments_lexer": "ipython3",
   "version": "3.10.12"
  }
 },
 "nbformat": 4,
 "nbformat_minor": 5
}
